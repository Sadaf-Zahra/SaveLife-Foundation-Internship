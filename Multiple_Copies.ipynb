{
  "nbformat": 4,
  "nbformat_minor": 0,
  "metadata": {
    "colab": {
      "provenance": []
    },
    "kernelspec": {
      "name": "python3",
      "display_name": "Python 3"
    },
    "language_info": {
      "name": "python"
    }
  },
  "cells": [
    {
      "cell_type": "code",
      "execution_count": null,
      "metadata": {
        "id": "8VxYFqII4jpt"
      },
      "outputs": [],
      "source": [
        "from google.colab import auth\n",
        "auth.authenticate_user()\n",
        "\n",
        "from googleapiclient.discovery import build\n",
        "from googleapiclient.errors import HttpError"
      ]
    },
    {
      "cell_type": "code",
      "source": [
        "# Replace with your actual presentation and folder ID\n",
        "TEMPLATE_PRESENTATION_ID = '1oN9JtyxZfUl4wKrhPCifIRi6lw2Hked1DSwYHsjxwKE'  # your base slide\n",
        "FOLDER_ID = '1LKOIBPNJantsAZtbcDXSucZ6F68aE9uK'  # optional, target folder for copies"
      ],
      "metadata": {
        "id": "2ynuNY_94lVp"
      },
      "execution_count": null,
      "outputs": []
    },
    {
      "cell_type": "code",
      "source": [
        "# Build the Drive API\n",
        "drive_service = build('drive', 'v3')\n",
        "\n",
        "for i in range(1, 11):\n",
        "    copy_title = f'Slide Copy {i:03}'\n",
        "\n",
        "    file_metadata = {\n",
        "        'name': copy_title,\n",
        "        'parents': [FOLDER_ID]  # Omit this line if not saving to a specific folder\n",
        "    }\n",
        "\n",
        "    try:\n",
        "        copied_file = drive_service.files().copy(\n",
        "            fileId=TEMPLATE_PRESENTATION_ID,\n",
        "            body=file_metadata\n",
        "        ).execute()\n",
        "        print(f\"✅ Created: {copy_title} (ID: {copied_file['id']})\")\n",
        "    except HttpError as error:\n",
        "        print(f\"❌ Error creating {copy_title}: {error}\")\n"
      ],
      "metadata": {
        "colab": {
          "base_uri": "https://localhost:8080/"
        },
        "id": "bgiH28U15MGk",
        "outputId": "0bcd2279-9e76-4e6c-fcc0-a5b3fe0a13b8"
      },
      "execution_count": null,
      "outputs": [
        {
          "output_type": "stream",
          "name": "stdout",
          "text": [
            "✅ Created: Slide Copy 001 (ID: 1c6EOchgdSIdiI3vDGf9rs8gHXWjbtPOdp7oz7lmNB74)\n",
            "✅ Created: Slide Copy 002 (ID: 1GHgG5mey6T5FMems66y24z6a-jbDsoeI9wpSC00Oq7o)\n",
            "✅ Created: Slide Copy 003 (ID: 1B26jzJEzyb_zHQRAwEb1SRKooVPeym8A9fRKtUXKsoc)\n",
            "✅ Created: Slide Copy 004 (ID: 13qDdxIsbT4-07oOWPpLlKwme4NhI9h7f_rM1ZKBzfYg)\n",
            "✅ Created: Slide Copy 005 (ID: 1LXOD4UukNvIv4I5244MIZGsm_qcGp_tDFW2gnHyGhWA)\n",
            "✅ Created: Slide Copy 006 (ID: 1gVLEgxqiUpT7sz79Ehr3gj2r8d4d07lSqjXNJArpH3M)\n",
            "✅ Created: Slide Copy 007 (ID: 114scU-xb6noXa-4vdC8w5184dixtLqdpAA-8IQjJ3ho)\n",
            "✅ Created: Slide Copy 008 (ID: 1XhOxVMFG1c6jlqxYVBEFv6whgi1duvjNfSPaA240_fs)\n",
            "✅ Created: Slide Copy 009 (ID: 1Z6oWsjpaTZi78DMI0Rd9tZqUIxC2wqggBFv_boKNhiE)\n",
            "✅ Created: Slide Copy 010 (ID: 1G8RLn5M7hw69eImvo5Opl-MMg1wvanjX4johL5jFOUc)\n"
          ]
        }
      ]
    },
    {
      "cell_type": "code",
      "source": [],
      "metadata": {
        "id": "ymeGcJ9X5QTh"
      },
      "execution_count": null,
      "outputs": []
    }
  ]
}